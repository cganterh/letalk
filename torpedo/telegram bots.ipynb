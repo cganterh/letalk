{
 "cells": [
  {
   "cell_type": "code",
   "execution_count": 2,
   "metadata": {},
   "outputs": [],
   "source": [
    "from datetime import datetime\n",
    "\n",
    "from telegram.ext import Updater, CommandHandler\n",
    "\n",
    "def send_time(bot, update):\n",
    "    time = datetime.now().time()\n",
    "    time_str = str(time)\n",
    "    update.message.reply_text(time_str)\n",
    "\n",
    "updater = Updater('608443894:AAExZn-B7Bs-rAvQGch6CNUou2JdtLKSPlA')\n",
    "\n",
    "updater.dispatcher.add_handler(CommandHandler('time', send_time))\n",
    "\n",
    "updater.start_polling()\n",
    "\n",
    "updater.idle()"
   ]
  }
 ],
 "metadata": {
  "kernelspec": {
   "display_name": "Python 3",
   "language": "python",
   "name": "python3"
  },
  "language_info": {
   "codemirror_mode": {
    "name": "ipython",
    "version": 3
   },
   "file_extension": ".py",
   "mimetype": "text/x-python",
   "name": "python",
   "nbconvert_exporter": "python",
   "pygments_lexer": "ipython3",
   "version": "3.6.5"
  }
 },
 "nbformat": 4,
 "nbformat_minor": 2
}
